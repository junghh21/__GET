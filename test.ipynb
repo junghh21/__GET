{
 "cells": [
  {
   "cell_type": "code",
   "execution_count": 2,
   "id": "55497be4",
   "metadata": {},
   "outputs": [],
   "source": [
    "%load_ext autoreload\n",
    "%autoreload 2\n",
    "\n",
    "from __CAP.cap_web import capture_element_screenshot\n",
    "from __COMMON.telegram_req import telegram_send_photo, telegram_send_message"
   ]
  },
  {
   "cell_type": "code",
   "execution_count": 3,
   "id": "b75bcac7",
   "metadata": {},
   "outputs": [
    {
     "name": "stdout",
     "output_type": "stream",
     "text": [
      "{'ok': True, 'result': {'message_id': 44927, 'from': {'id': 6615365735, 'is_bot': True, 'first_name': '📈', 'username': 'Noti_log1_bot'}, 'chat': {'id': -1002401729022, 'title': '노티그룹', 'type': 'supergroup'}, 'date': 1756279087, 'text': 'VIX'}}\n",
      "None {'x': 961, 'y': 1997} {'height': 400, 'width': 496}\n",
      "None {'x': 961, 'y': 1997} {'height': 400, 'width': 496}\n",
      "{'ok': True, 'result': {'message_id': 44928, 'from': {'id': 6615365735, 'is_bot': True, 'first_name': '📈', 'username': 'Noti_log1_bot'}, 'chat': {'id': -1002401729022, 'title': '노티그룹', 'type': 'supergroup'}, 'date': 1756279124, 'photo': [{'file_id': 'AgACAgUAAyEGAASPJ3n-AAKvgGiusVOZywl3D5NC0keK6pG-hCLLAAKNyDEbf6pxVR2Vvlh3p-GFAQADAgADcwADNgQ', 'file_unique_id': 'AQADjcgxG3-qcVV4', 'file_size': 549, 'width': 90, 'height': 73}, {'file_id': 'AgACAgUAAyEGAASPJ3n-AAKvgGiusVOZywl3D5NC0keK6pG-hCLLAAKNyDEbf6pxVR2Vvlh3p-GFAQADAgADbQADNgQ', 'file_unique_id': 'AQADjcgxG3-qcVVy', 'file_size': 4636, 'width': 320, 'height': 258}, {'file_id': 'AgACAgUAAyEGAASPJ3n-AAKvgGiusVOZywl3D5NC0keK6pG-hCLLAAKNyDEbf6pxVR2Vvlh3p-GFAQADAgADeAADNgQ', 'file_unique_id': 'AQADjcgxG3-qcVV9', 'file_size': 8526, 'width': 496, 'height': 400}]}}\n"
     ]
    }
   ],
   "source": [
    "telegram_send_message('VIX')\n",
    "one_month, intra = capture_element_screenshot(\n",
    "\t'https://www.cboe.com/tradable_products/vix/',\n",
    "\t'//*[@id=\"charts-tile\"]/div/div/div[2]/div[1]',\n",
    "\t'//*[@id=\"onetrust-banner-sdk\"]/div/div[1]',\n",
    "\t'//*[@id=\"onetrust-accept-btn-handler\"]',\n",
    "\tdelay_wait=10,\n",
    "\tclick='//*[@id=\"charts-tile\"]/div/div/div[2]/div[2]/div[1]/div[1]')\n",
    "telegram_send_photo (intra)"
   ]
  },
  {
   "cell_type": "code",
   "execution_count": null,
   "id": "b526f978",
   "metadata": {},
   "outputs": [
    {
     "name": "stdout",
     "output_type": "stream",
     "text": [
      "{'ok': True, 'result': {'message_id': 44889, 'from': {'id': 6615365735, 'is_bot': True, 'first_name': '📈', 'username': 'Noti_log1_bot'}, 'chat': {'id': -1002401729022, 'title': '노티그룹', 'type': 'supergroup'}, 'date': 1756278201, 'text': 'S&P Futures'}}\n",
      "None {'x': 40, 'y': 620} {'height': 320, 'width': 1810}\n",
      "{'ok': True, 'result': {'message_id': 44890, 'from': {'id': 6615365735, 'is_bot': True, 'first_name': '📈', 'username': 'Noti_log1_bot'}, 'chat': {'id': -1002401729022, 'title': '노티그룹', 'type': 'supergroup'}, 'date': 1756278215, 'photo': [{'file_id': 'AgACAgUAAyEGAASPJ3n-AAKvWmiurcdFhikCc_-PVDkyBbuY-OQ0AAJ4yDEbf6pxVQlmHFurrgpSAQADAgADcwADNgQ', 'file_unique_id': 'AQADeMgxG3-qcVV4', 'file_size': 509, 'width': 90, 'height': 32}, {'file_id': 'AgACAgUAAyEGAASPJ3n-AAKvWmiurcdFhikCc_-PVDkyBbuY-OQ0AAJ4yDEbf6pxVQlmHFurrgpSAQADAgADbQADNgQ', 'file_unique_id': 'AQADeMgxG3-qcVVy', 'file_size': 3704, 'width': 320, 'height': 113}, {'file_id': 'AgACAgUAAyEGAASPJ3n-AAKvWmiurcdFhikCc_-PVDkyBbuY-OQ0AAJ4yDEbf6pxVQlmHFurrgpSAQADAgADeAADNgQ', 'file_unique_id': 'AQADeMgxG3-qcVV9', 'file_size': 15330, 'width': 800, 'height': 283}, {'file_id': 'AgACAgUAAyEGAASPJ3n-AAKvWmiurcdFhikCc_-PVDkyBbuY-OQ0AAJ4yDEbf6pxVQlmHFurrgpSAQADAgADeQADNgQ', 'file_unique_id': 'AQADeMgxG3-qcVV-', 'file_size': 17046, 'width': 905, 'height': 320}]}}\n"
     ]
    }
   ],
   "source": [
    "telegram_send_message('S&P Futures')\n",
    "snp_fut = capture_element_screenshot(\n",
    "\t'https://www.tradingview.com/symbols/CME_MINI-ES1!/',\n",
    "\t'//*[@id=\"symbol-overview-page-section\"]/div/div/div[1]/div[2]/div/div[1]/div')\n",
    "snp_fut = snp_fut.resize((snp_fut.width // 2, snp_fut.height))\n",
    "telegram_send_photo (snp_fut)"
   ]
  },
  {
   "cell_type": "code",
   "execution_count": 3,
   "id": "cc5a0ebb",
   "metadata": {},
   "outputs": [
    {
     "name": "stdout",
     "output_type": "stream",
     "text": [
      "None {'x': 257, 'y': 711} {'height': 346, 'width': 650}\n",
      "{'ok': True, 'result': {'message_id': 44987, 'from': {'id': 6615365735, 'is_bot': True, 'first_name': '📈', 'username': 'Noti_log1_bot'}, 'chat': {'id': -1002401729022, 'title': '노티그룹', 'type': 'supergroup'}, 'date': 1756279610, 'photo': [{'file_id': 'AgACAgUAAyEGAASPJ3n-AAKvu2iuszorQF8CAAFrkxQdZMlhNW4GGgACqcgxG3-qcVWxOrfMZ0v_owEAAwIAA3MAAzYE', 'file_unique_id': 'AQADqcgxG3-qcVV4', 'file_size': 850, 'width': 90, 'height': 48}, {'file_id': 'AgACAgUAAyEGAASPJ3n-AAKvu2iuszorQF8CAAFrkxQdZMlhNW4GGgACqcgxG3-qcVWxOrfMZ0v_owEAAwIAA20AAzYE', 'file_unique_id': 'AQADqcgxG3-qcVVy', 'file_size': 7759, 'width': 320, 'height': 170}, {'file_id': 'AgACAgUAAyEGAASPJ3n-AAKvu2iuszorQF8CAAFrkxQdZMlhNW4GGgACqcgxG3-qcVWxOrfMZ0v_owEAAwIAA3gAAzYE', 'file_unique_id': 'AQADqcgxG3-qcVV9', 'file_size': 19738, 'width': 650, 'height': 346}]}}\n"
     ]
    }
   ],
   "source": [
    "greed = capture_element_screenshot(\n",
    "\t'https://edition.cnn.com/markets/fear-and-greed',\n",
    "\t'/html/body/div[1]/section[4]/section[1]/section[1]/div/section/div[1]/div[2]/div[1]/div/div[1]/div[1]/div')\n",
    "telegram_send_photo (greed)"
   ]
  }
 ],
 "metadata": {
  "kernelspec": {
   "display_name": "Python 3",
   "language": "python",
   "name": "python3"
  },
  "language_info": {
   "codemirror_mode": {
    "name": "ipython",
    "version": 3
   },
   "file_extension": ".py",
   "mimetype": "text/x-python",
   "name": "python",
   "nbconvert_exporter": "python",
   "pygments_lexer": "ipython3",
   "version": "3.12.3"
  }
 },
 "nbformat": 4,
 "nbformat_minor": 5
}
