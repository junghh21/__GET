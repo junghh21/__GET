{
 "cells": [
  {
   "cell_type": "markdown",
   "id": "4f311cc9",
   "metadata": {},
   "source": [
    "🤔 What are the differences with investpy?\n",
    "investiny is faster, lighter and easier to use, but with reduced functionality for the moment. investiny lets you retrieve historical data from Investing.com through historical_data and search any available asset through search_assets, while investpy offers more functions to also retrieve technical indicators, economic calendars, dividends, etc. but those will come at some point to investiny too.\n",
    "\n",
    "investiny introduces intraday data, so the specified intervals when retrieving historical data for any asset available at Investing.com goes from 1 minute to monthly data.\n",
    "\n",
    "investpy uses Investing.com's APIs at https://www.investing.com/instruments/HistoricalDataAjax and at https://api.investing.com/api/financialdata/historical, that are Cloudflare protected and not working any more, as you'll end up getting blocked with 403 Forbidden HTTP code; while investiny is using https://tvc6.investing.com/, which seems to be more reliable right now according to the ran tests, as well as providing intraday data.\n",
    "\n",
    "Intraday Data\tAny Range Historical Data\tSearch Assets/Quotes\tDividends\tEconomic Calendar\tTechnical Indicators\tEconomic News\n",
    "investiny\t✅\t✅\t✅\t❌\t❌\t❌\t❌\n",
    "investpy\t❌\t✅\t✅\t✅\t✅\t✅\t✅\n",
    "\n",
    "\n",
    "\n",
    "https://alvarobartt.com/investiny/"
   ]
  },
  {
   "cell_type": "code",
   "execution_count": null,
   "id": "b201b40f",
   "metadata": {},
   "outputs": [],
   "source": [
    "#!pip install investiny"
   ]
  },
  {
   "cell_type": "code",
   "execution_count": null,
   "id": "25509bb6",
   "metadata": {},
   "outputs": [],
   "source": [
    "from investiny import historical_data\n",
    "data = historical_data(investing_id=6408, from_date=\"09/01/2022\", to_date=\"10/01/2022\") # Returns AAPL historical data as JSON (without date)"
   ]
  },
  {
   "cell_type": "code",
   "execution_count": null,
   "id": "089492e4",
   "metadata": {},
   "outputs": [],
   "source": [
    "from investiny import search_assets\n",
    "results = search_assets(query=\"AAPL\", limit=1, type=\"Stock\", exchange=\"NASDAQ\") # Returns a list with all the results found in Investing.com"
   ]
  },
  {
   "cell_type": "code",
   "execution_count": null,
   "id": "e9224ca4",
   "metadata": {},
   "outputs": [],
   "source": [
    "from investiny import historical_data, search_assets\n",
    "search_results = search_assets(query=\"AAPL\", limit=1, type=\"Stock\", exchange=\"NASDAQ\")\n",
    "investing_id = int(search_results[0][\"ticker\"]) # Assuming the first entry is the desired one (top result in Investing.com)\n",
    "data = historical_data(investing_id=investing_id, from_date=\"09/01/2022\", to_date=\"10/01/2022\")"
   ]
  }
 ],
 "metadata": {
  "kernelspec": {
   "display_name": "Python 3",
   "language": "python",
   "name": "python3"
  },
  "language_info": {
   "codemirror_mode": {
    "name": "ipython",
    "version": 3
   },
   "file_extension": ".py",
   "mimetype": "text/x-python",
   "name": "python",
   "nbconvert_exporter": "python",
   "pygments_lexer": "ipython3",
   "version": "3.12.3"
  }
 },
 "nbformat": 4,
 "nbformat_minor": 5
}
