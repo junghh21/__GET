{
 "cells": [
  {
   "cell_type": "code",
   "execution_count": 1,
   "id": "36bb54a9",
   "metadata": {},
   "outputs": [
    {
     "name": "stdout",
     "output_type": "stream",
     "text": [
      "Collecting investpy\n",
      "  Downloading investpy-1.0.8.tar.gz (4.4 MB)\n",
      "\u001b[2K     \u001b[90m━━━━━━━━━━━━━━━━━━━━━━━━━━━━━━━━━━━━━━━━\u001b[0m \u001b[32m4.4/4.4 MB\u001b[0m \u001b[31m7.6 MB/s\u001b[0m eta \u001b[36m0:00:00\u001b[0m:00:01\u001b[0m00:01\u001b[0m\n",
      "\u001b[?25h  Installing build dependencies ... \u001b[?25ldone\n",
      "\u001b[?25h  Getting requirements to build wheel ... \u001b[?25ldone\n",
      "\u001b[?25h  Preparing metadata (pyproject.toml) ... \u001b[?25ldone\n",
      "\u001b[?25hCollecting Unidecode>=1.1.1 (from investpy)\n",
      "  Downloading Unidecode-1.4.0-py3-none-any.whl.metadata (13 kB)\n",
      "Collecting setuptools>=41.2.0 (from investpy)\n",
      "  Using cached setuptools-80.9.0-py3-none-any.whl.metadata (6.6 kB)\n",
      "Requirement already satisfied: numpy>=1.17.2 in /home/aaa/__PY/__ENV/venv_get/lib/python3.12/site-packages (from investpy) (2.3.4)\n",
      "Requirement already satisfied: pandas>=0.25.1 in /home/aaa/__PY/__ENV/venv_get/lib/python3.12/site-packages (from investpy) (2.3.3)\n",
      "Requirement already satisfied: lxml>=4.4.1 in /home/aaa/__PY/__ENV/venv_get/lib/python3.12/site-packages (from investpy) (6.0.2)\n",
      "Requirement already satisfied: requests>=2.22.0 in /home/aaa/__PY/__ENV/venv_get/lib/python3.12/site-packages (from investpy) (2.32.5)\n",
      "Requirement already satisfied: pytz>=2019.3 in /home/aaa/__PY/__ENV/venv_get/lib/python3.12/site-packages (from investpy) (2025.2)\n",
      "Requirement already satisfied: python-dateutil>=2.8.2 in /home/aaa/__PY/__ENV/venv_get/lib/python3.12/site-packages (from pandas>=0.25.1->investpy) (2.9.0.post0)\n",
      "Requirement already satisfied: tzdata>=2022.7 in /home/aaa/__PY/__ENV/venv_get/lib/python3.12/site-packages (from pandas>=0.25.1->investpy) (2025.2)\n",
      "Requirement already satisfied: charset_normalizer<4,>=2 in /home/aaa/__PY/__ENV/venv_get/lib/python3.12/site-packages (from requests>=2.22.0->investpy) (3.4.4)\n",
      "Requirement already satisfied: idna<4,>=2.5 in /home/aaa/__PY/__ENV/venv_get/lib/python3.12/site-packages (from requests>=2.22.0->investpy) (3.11)\n",
      "Requirement already satisfied: urllib3<3,>=1.21.1 in /home/aaa/__PY/__ENV/venv_get/lib/python3.12/site-packages (from requests>=2.22.0->investpy) (2.5.0)\n",
      "Requirement already satisfied: certifi>=2017.4.17 in /home/aaa/__PY/__ENV/venv_get/lib/python3.12/site-packages (from requests>=2.22.0->investpy) (2025.10.5)\n",
      "Requirement already satisfied: six>=1.5 in /home/aaa/__PY/__ENV/venv_get/lib/python3.12/site-packages (from python-dateutil>=2.8.2->pandas>=0.25.1->investpy) (1.17.0)\n",
      "Using cached setuptools-80.9.0-py3-none-any.whl (1.2 MB)\n",
      "Downloading Unidecode-1.4.0-py3-none-any.whl (235 kB)\n",
      "\u001b[2K   \u001b[90m━━━━━━━━━━━━━━━━━━━━━━━━━━━━━━━━━━━━━━━━\u001b[0m \u001b[32m235.8/235.8 kB\u001b[0m \u001b[31m6.0 MB/s\u001b[0m eta \u001b[36m0:00:00\u001b[0m:00:01\u001b[0m\n",
      "\u001b[?25hBuilding wheels for collected packages: investpy\n",
      "  Building wheel for investpy (pyproject.toml) ... \u001b[?25ldone\n",
      "\u001b[?25h  Created wheel for investpy: filename=investpy-1.0.8-py3-none-any.whl size=4481672 sha256=ae6553580077acdbb7744b23b210d7e2a02f758b903fdb315b91a872203ad51e\n",
      "  Stored in directory: /home/aaa/.cache/pip/wheels/dd/f4/e0/4807b8928ec08b376e1e1f1e1cc597a747cdd8356c37ee618f\n",
      "Successfully built investpy\n",
      "Installing collected packages: Unidecode, setuptools, investpy\n",
      "Successfully installed Unidecode-1.4.0 investpy-1.0.8 setuptools-80.9.0\n"
     ]
    }
   ],
   "source": [
    "!pip install investpy"
   ]
  }
 ],
 "metadata": {
  "kernelspec": {
   "display_name": "Python 3",
   "language": "python",
   "name": "python3"
  },
  "language_info": {
   "codemirror_mode": {
    "name": "ipython",
    "version": 3
   },
   "file_extension": ".py",
   "mimetype": "text/x-python",
   "name": "python",
   "nbconvert_exporter": "python",
   "pygments_lexer": "ipython3",
   "version": "3.12.3"
  }
 },
 "nbformat": 4,
 "nbformat_minor": 5
}
