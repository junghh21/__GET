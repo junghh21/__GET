{
 "cells": [
  {
   "cell_type": "code",
   "execution_count": null,
   "id": "6467886b",
   "metadata": {},
   "outputs": [],
   "source": [
    "#!pip install finvizfinance"
   ]
  },
  {
   "cell_type": "code",
   "execution_count": 4,
   "id": "f2248432",
   "metadata": {},
   "outputs": [
    {
     "data": {
      "text/plain": [
       "'https://finviz.com/chart.ashx?t=tsla&ty=c&ta=1&p=d'"
      ]
     },
     "execution_count": 4,
     "metadata": {},
     "output_type": "execute_result"
    }
   ],
   "source": [
    "from finvizfinance.quote import finvizfinance\n",
    "stock = finvizfinance('tsla')\n",
    "stock.ticker_charts()"
   ]
  },
  {
   "cell_type": "code",
   "execution_count": 12,
   "id": "bce34f53",
   "metadata": {},
   "outputs": [
    {
     "name": "stdout",
     "output_type": "stream",
     "text": [
      "dict_keys(['news', 'blogs'])\n",
      "0     JD Vance meets Netanyahu in Israel with ceasef...\n",
      "1     The U.S. job market was already wobbly before ...\n",
      "2     Stock-market benchmarks look set to open near ...\n",
      "3     NHL Becomes First League to Strike Deal With K...\n",
      "4     Beyond Meat shares surge for a third day in a ...\n",
      "                            ...                        \n",
      "85    UK gambling ads with Lewis Hamilton and Chelse...\n",
      "86    RBNZ Considered New Policy Committee Member fo...\n",
      "87    Wall Street Split on What Trump-Xi Talks Mean ...\n",
      "88    Shares dip, gold retreats as FOMO buying gets ...\n",
      "89    Indonesia Plans Debut Yuan Bonds as Dim Sum Is...\n",
      "Name: Title, Length: 90, dtype: object\n",
      "0     VW Halts Golf Production In Wolfsburg As Chip ...\n",
      "1     Slovak PM Claims EU Tried To Sabotage Canceled...\n",
      "2                  Futures Flat As Gold Selloff Extends\n",
      "3     India-US Trade Deal \"Likely Soon,\" Could Be An...\n",
      "4     Applied Materials Vs Lam Research: Battle Of S...\n",
      "                            ...                        \n",
      "85    Risk On, Cash Everywhere, Gold Flying, Rare Ea...\n",
      "86    Millions of People Have Been Unfairly Declared...\n",
      "87                     Podcast links: spontaneous order\n",
      "88    KRE Upgrade: Fade The Credit Jitters, Follow T...\n",
      "89                          Bully For Investment Banks!\n",
      "Name: Title, Length: 90, dtype: object\n"
     ]
    }
   ],
   "source": [
    "from finvizfinance.news import News\n",
    "fnews = News()\n",
    "all_news = fnews.get_news()\n",
    "print(all_news.keys())\n",
    "print(all_news['news']['Title'])\n",
    "print(all_news['blogs']['Title'])"
   ]
  }
 ],
 "metadata": {
  "kernelspec": {
   "display_name": "Python 3",
   "language": "python",
   "name": "python3"
  },
  "language_info": {
   "codemirror_mode": {
    "name": "ipython",
    "version": 3
   },
   "file_extension": ".py",
   "mimetype": "text/x-python",
   "name": "python",
   "nbconvert_exporter": "python",
   "pygments_lexer": "ipython3",
   "version": "3.12.3"
  }
 },
 "nbformat": 4,
 "nbformat_minor": 5
}
