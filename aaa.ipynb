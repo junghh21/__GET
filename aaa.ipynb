{
 "cells": [
  {
   "cell_type": "code",
   "execution_count": 85,
   "id": "07348549",
   "metadata": {},
   "outputs": [
    {
     "name": "stdout",
     "output_type": "stream",
     "text": [
      "{'ok': True, 'result': {'message_id': 6, 'from': {'id': 8490037832, 'is_bot': True, 'first_name': '코인그룹', 'username': 'Coin_vn1_bot'}, 'chat': {'id': 1932486894, 'first_name': '호형', 'last_name': '정', 'type': 'private'}, 'date': 1756266422, 'text': 'MdVtFbZSobabqiZL7P4Za4ZUZBWwm3VqSS:\\n  1454H/s (5993)'}}\n"
     ]
    }
   ],
   "source": [
    "import requests\n",
    "import json\n",
    "\n",
    "W = \"MdVtFbZSobabqiZL7P4Za4ZUZBWwm3VqSS\"\n",
    "\n",
    "# Connect to the SSE endpoint\n",
    "response = requests.get(\"https://pool.rplant.xyz/api2/poolminer2/microbitcoin/MdVtFbZSobabqiZL7P4Za4ZUZBWwm3VqSS/TWRWdEZiWlNvYmFicWlaTDdQNFphNFpVWkJXd20zVnFTU3w=\", stream=True)\n",
    "for line in response.iter_lines():\n",
    "\tif line:\n",
    "\t\tdecoded_line = line.decode(\"utf-8\")\n",
    "\t\t#print(decoded_line)\n",
    "\t\tdata = json.loads(decoded_line[6:])\n",
    "\t\tif \"miner\" in data:\n",
    "\t\t\t#print(data[\"miner\"])\n",
    "\t\t\tminer = json.loads(json.dumps(data[\"miner\"], ensure_ascii=False))\n",
    "\t\t\t#print(miner)\n",
    "\t\t\thr = miner[\"hr\"]\n",
    "\t\t\tpaid = miner[\"paid\"]\n",
    "\t\t\ttelegram_send_message (f\"{W}:\\n \\t{hr}H/s ({paid:.0f})\", \"8490037832:AAHmmxVAkA5DqQjJno2O5Oqy2JEHgsDb9Dg\", 1932486894)\n",
    "\t\t\tbreak\n"
   ]
  },
  {
   "cell_type": "code",
   "execution_count": 86,
   "id": "9f64dfee",
   "metadata": {},
   "outputs": [
    {
     "name": "stdout",
     "output_type": "stream",
     "text": [
      "{'ok': True, 'result': {'message_id': 7, 'from': {'id': 8490037832, 'is_bot': True, 'first_name': '코인그룹', 'username': 'Coin_vn1_bot'}, 'chat': {'id': 1932486894, 'first_name': '호형', 'last_name': '정', 'type': 'private'}, 'date': 1756266425, 'text': 'bJzPjHhEwjLPeTJGwePQ4KpDxLH1vvZoy4:\\n  175.9 H/s (1062)'}}\n"
     ]
    }
   ],
   "source": [
    "import requests\n",
    "from selectolax.parser import HTMLParser\n",
    "\n",
    "W = \"bJzPjHhEwjLPeTJGwePQ4KpDxLH1vvZoy4\"\n",
    "\n",
    "html = requests.get(f\"https://leywapool.com/site/wallet_miners_results?address={W}\").text\n",
    "tree = HTMLParser(html)\n",
    "e_hr = tree.css_first(\"div > div > table > tbody > tr > td:nth-child(4) > b\")\n",
    "hr = float(e_hr.text().split()[0])\n",
    "html = requests.get(f\"https://leywapool.com/site/wallet_results?address={W}\").text\n",
    "tree = HTMLParser(html)\n",
    "e_paid = tree.css_first(\"div > div > table > tbody > tr:nth-child(6) > td:nth-child(4) > a\")\n",
    "paid = float(e_paid.text()[:-5])\n",
    "telegram_send_message (f\"{W}:\\n \\t{hr} H/s ({paid:.0f})\", \"8490037832:AAHmmxVAkA5DqQjJno2O5Oqy2JEHgsDb9Dg\", 1932486894)\n"
   ]
  },
  {
   "cell_type": "code",
   "execution_count": 84,
   "id": "417c1256",
   "metadata": {},
   "outputs": [
    {
     "name": "stdout",
     "output_type": "stream",
     "text": [
      "{'ok': True, 'result': {'message_id': 3, 'from': {'id': 8490037832, 'is_bot': True, 'first_name': '코인그룹', 'username': 'Coin_vn1_bot'}, 'chat': {'id': 1932486894, 'first_name': '호형', 'last_name': '정', 'type': 'private'}, 'date': 1756266365, 'text': 'BTC: $111,763.00'}}\n",
      "{'ok': True, 'result': {'message_id': 4, 'from': {'id': 8490037832, 'is_bot': True, 'first_name': '코인그룹', 'username': 'Coin_vn1_bot'}, 'chat': {'id': 1932486894, 'first_name': '호형', 'last_name': '정', 'type': 'private'}, 'date': 1756266366, 'text': 'ETH: $4,599.16'}}\n",
      "{'ok': True, 'result': {'message_id': 5, 'from': {'id': 8490037832, 'is_bot': True, 'first_name': '코인그룹', 'username': 'Coin_vn1_bot'}, 'chat': {'id': 1932486894, 'first_name': '호형', 'last_name': '정', 'type': 'private'}, 'date': 1756266367, 'text': 'MBC: $0.000083'}}\n"
     ]
    }
   ],
   "source": [
    "import requests\n",
    "from selectolax.parser import HTMLParser\n",
    "from __COMMON.telegram_req import telegram_send_message\n",
    "\n",
    "html = requests.get(f\"https://www.forbes.com/digital-assets/assets/microbitcoin-mbc/\").text\n",
    "tree = HTMLParser(html)\n",
    "\n",
    "e_name1 = tree.css_first(\"body > div.main-content.main-content--universal-header.main-content--overflow-visible > main > div.profile-wrapper > div.profile-page-body > div.profile-content > div.profile-body-mobile > div > div.top-assets.fda-right-rail > div:nth-child(2) > div > div > div > div > a > div > span:nth-child(2)\")\n",
    "name1 = e_name1.text().upper()\n",
    "e_price1 = tree.css_first(\"body > div.main-content.main-content--universal-header.main-content--overflow-visible > main > div.profile-wrapper > div.profile-page-body > div.profile-content > div.profile-body-mobile > div > div.top-assets.fda-right-rail > div:nth-child(2) > div > div > div > div > div > div\")\n",
    "price1 = e_price1.text()\n",
    "e_name2 = tree.css_first(\"body > div.main-content.main-content--universal-header.main-content--overflow-visible > main > div.profile-wrapper > div.profile-page-body > div.profile-content > div.profile-body-mobile > div > div.top-assets.fda-right-rail > div:nth-child(3) > div > div > div > div > a > div > span:nth-child(2)\")\n",
    "name2 = e_name2.text().upper()\n",
    "e_price2 = tree.css_first(\"body > div.main-content.main-content--universal-header.main-content--overflow-visible > main > div.profile-wrapper > div.profile-page-body > div.profile-content > div.profile-body-mobile > div > div.top-assets.fda-right-rail > div:nth-child(3) > div > div > div > div > div > div\")\n",
    "price2 = e_price2.text()\n",
    "e_price = tree.css_first(\"#profile-header > section > div > div > div.header-number-info > span.header-rank\")\n",
    "price = e_price.text()\n",
    "telegram_send_message (f\"{name1}: {price1}\", \"8490037832:AAHmmxVAkA5DqQjJno2O5Oqy2JEHgsDb9Dg\", 1932486894)\n",
    "telegram_send_message (f\"{name2}: {price2}\", \"8490037832:AAHmmxVAkA5DqQjJno2O5Oqy2JEHgsDb9Dg\", 1932486894)\n",
    "telegram_send_message (f\"MBC: {price}\", \"8490037832:AAHmmxVAkA5DqQjJno2O5Oqy2JEHgsDb9Dg\", 1932486894)\n"
   ]
  },
  {
   "cell_type": "code",
   "execution_count": 83,
   "id": "b6726a14",
   "metadata": {},
   "outputs": [
    {
     "name": "stdout",
     "output_type": "stream",
     "text": [
      "{'ok': True, 'result': [{'update_id': 129161962, 'message': {'message_id': 2, 'from': {'id': 1932486894, 'is_bot': False, 'first_name': '호형', 'last_name': '정', 'language_code': 'ko'}, 'chat': {'id': 1932486894, 'first_name': '호형', 'last_name': '정', 'type': 'private'}, 'date': 1756266207, 'text': 'ㄱㄱㄱ'}}]}\n",
      "Chat ID: 1932486894\n"
     ]
    }
   ],
   "source": [
    "import requests\n",
    "\n",
    "TOKEN = \"8490037832:AAHmmxVAkA5DqQjJno2O5Oqy2JEHgsDb9Dg\"\n",
    "url = f\"https://api.telegram.org/bot{TOKEN}/getUpdates\"\n",
    "\n",
    "response = requests.get(url)\n",
    "data = response.json()\n",
    "print(data)\n",
    "# Print the chat ID from the first message\n",
    "chat_id = data[\"result\"][0][\"message\"][\"chat\"][\"id\"]\n",
    "print(\"Chat ID:\", chat_id)"
   ]
  }
 ],
 "metadata": {
  "kernelspec": {
   "display_name": "Python 3",
   "language": "python",
   "name": "python3"
  },
  "language_info": {
   "codemirror_mode": {
    "name": "ipython",
    "version": 3
   },
   "file_extension": ".py",
   "mimetype": "text/x-python",
   "name": "python",
   "nbconvert_exporter": "python",
   "pygments_lexer": "ipython3",
   "version": "3.12.3"
  }
 },
 "nbformat": 4,
 "nbformat_minor": 5
}
