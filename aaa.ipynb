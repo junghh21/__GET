{
 "cells": [
  {
   "cell_type": "code",
   "execution_count": null,
   "id": "07348549",
   "metadata": {},
   "outputs": [
    {
     "name": "stdout",
     "output_type": "stream",
     "text": [
      "{'ok': True, 'result': {'message_id': 6, 'from': {'id': 8490037832, 'is_bot': True, 'first_name': '코인그룹', 'username': 'Coin_vn1_bot'}, 'chat': {'id': 1932486894, 'first_name': '호형', 'last_name': '정', 'type': 'private'}, 'date': 1756266422, 'text': 'MdVtFbZSobabqiZL7P4Za4ZUZBWwm3VqSS:\\n  1454H/s (5993)'}}\n"
     ]
    }
   ],
   "source": [
    "import requests\n",
    "import json\n",
    "\n",
    "W = \"MdVtFbZSobabqiZL7P4Za4ZUZBWwm3VqSS\"\n",
    "\n",
    "# Connect to the SSE endpoint\n",
    "response = requests.get(\"https://pool.rplant.xyz/api2/poolminer2/microbitcoin/MdVtFbZSobabqiZL7P4Za4ZUZBWwm3VqSS/TWRWdEZiWlNvYmFicWlaTDdQNFphNFpVWkJXd20zVnFTU3w=\", stream=True)\n",
    "for line in response.iter_lines():\n",
    "\tif line:\n",
    "\t\tdecoded_line = line.decode(\"utf-8\")\n",
    "\t\t#print(decoded_line)\n",
    "\t\tdata = json.loads(decoded_line[6:])\n",
    "\t\tif \"miner\" in data:\n",
    "\t\t\t#print(data[\"miner\"])\n",
    "\t\t\tminer = json.loads(json.dumps(data[\"miner\"], ensure_ascii=False))\n",
    "\t\t\t#print(miner)\n",
    "\t\t\thr = miner[\"hr\"]\n",
    "\t\t\tpaid = miner[\"paid\"]\n",
    "\t\t\ttelegram_send_message (f\"{W}:\\n \\t{hr}H/s ({paid:.0f})\", \"8490037832:AAHmmxVAkA5DqQjJno2O5Oqy2JEHgsDb9Dg\", -1003016231971)\n",
    "\t\t\tbreak\n"
   ]
  },
  {
   "cell_type": "code",
   "execution_count": null,
   "id": "9f64dfee",
   "metadata": {},
   "outputs": [
    {
     "name": "stdout",
     "output_type": "stream",
     "text": [
      "{'ok': True, 'result': {'message_id': 7, 'from': {'id': 8490037832, 'is_bot': True, 'first_name': '코인그룹', 'username': 'Coin_vn1_bot'}, 'chat': {'id': 1932486894, 'first_name': '호형', 'last_name': '정', 'type': 'private'}, 'date': 1756266425, 'text': 'bJzPjHhEwjLPeTJGwePQ4KpDxLH1vvZoy4:\\n  175.9 H/s (1062)'}}\n"
     ]
    }
   ],
   "source": [
    "import requests\n",
    "from selectolax.parser import HTMLParser\n",
    "\n",
    "W = \"bJzPjHhEwjLPeTJGwePQ4KpDxLH1vvZoy4\"\n",
    "\n",
    "html = requests.get(f\"https://leywapool.com/site/wallet_miners_results?address={W}\").text\n",
    "tree = HTMLParser(html)\n",
    "e_hr = tree.css_first(\"div > div > table > tbody > tr > td:nth-child(4) > b\")\n",
    "hr = float(e_hr.text().split()[0])\n",
    "html = requests.get(f\"https://leywapool.com/site/wallet_results?address={W}\").text\n",
    "tree = HTMLParser(html)\n",
    "e_paid = tree.css_first(\"div > div > table > tbody > tr:nth-child(6) > td:nth-child(4) > a\")\n",
    "paid = float(e_paid.text()[:-5])\n",
    "telegram_send_message (f\"{W}:\\n \\t{hr} H/s ({paid:.0f})\", \"8490037832:AAHmmxVAkA5DqQjJno2O5Oqy2JEHgsDb9Dg\", -1003016231971)\n"
   ]
  },
  {
   "cell_type": "code",
   "execution_count": 14,
   "id": "417c1256",
   "metadata": {},
   "outputs": [
    {
     "name": "stdout",
     "output_type": "stream",
     "text": [
      "{'ok': True, 'result': {'message_id': 9, 'from': {'id': 8490037832, 'is_bot': True, 'first_name': 'Coin_vn1_bot', 'username': 'Coin_vn1_bot'}, 'chat': {'id': -1003016231971, 'title': '코인그룹', 'type': 'supergroup'}, 'date': 1756275362, 'text': 'BTC: $111,049.00'}}\n",
      "{'ok': True, 'result': {'message_id': 10, 'from': {'id': 8490037832, 'is_bot': True, 'first_name': 'Coin_vn1_bot', 'username': 'Coin_vn1_bot'}, 'chat': {'id': -1003016231971, 'title': '코인그룹', 'type': 'supergroup'}, 'date': 1756275363, 'text': 'ETH: $4,565.81'}}\n",
      "{'ok': True, 'result': {'message_id': 11, 'from': {'id': 8490037832, 'is_bot': True, 'first_name': 'Coin_vn1_bot', 'username': 'Coin_vn1_bot'}, 'chat': {'id': -1003016231971, 'title': '코인그룹', 'type': 'supergroup'}, 'date': 1756275364, 'text': 'MBC: $0.000082'}}\n"
     ]
    }
   ],
   "source": [
    "import requests\n",
    "from selectolax.parser import HTMLParser\n",
    "from __COMMON.telegram_req import telegram_send_message\n",
    "\n",
    "html = requests.get(f\"https://www.forbes.com/digital-assets/assets/microbitcoin-mbc/\").text\n",
    "tree = HTMLParser(html)\n",
    "\n",
    "e_name1 = tree.css_first(\"body > div.main-content.main-content--universal-header.main-content--overflow-visible > main > div.profile-wrapper > div.profile-page-body > div.profile-content > div.profile-body-mobile > div > div.top-assets.fda-right-rail > div:nth-child(2) > div > div > div > div > a > div > span:nth-child(2)\")\n",
    "name1 = e_name1.text().upper()\n",
    "e_price1 = tree.css_first(\"body > div.main-content.main-content--universal-header.main-content--overflow-visible > main > div.profile-wrapper > div.profile-page-body > div.profile-content > div.profile-body-mobile > div > div.top-assets.fda-right-rail > div:nth-child(2) > div > div > div > div > div > div\")\n",
    "price1 = e_price1.text()\n",
    "e_name2 = tree.css_first(\"body > div.main-content.main-content--universal-header.main-content--overflow-visible > main > div.profile-wrapper > div.profile-page-body > div.profile-content > div.profile-body-mobile > div > div.top-assets.fda-right-rail > div:nth-child(3) > div > div > div > div > a > div > span:nth-child(2)\")\n",
    "name2 = e_name2.text().upper()\n",
    "e_price2 = tree.css_first(\"body > div.main-content.main-content--universal-header.main-content--overflow-visible > main > div.profile-wrapper > div.profile-page-body > div.profile-content > div.profile-body-mobile > div > div.top-assets.fda-right-rail > div:nth-child(3) > div > div > div > div > div > div\")\n",
    "price2 = e_price2.text()\n",
    "e_price = tree.css_first(\"#profile-header > section > div > div > div.header-number-info > span.header-rank\")\n",
    "price = e_price.text()\n",
    "telegram_send_message (f\"{name1}: {price1}\", \"8490037832:AAHmmxVAkA5DqQjJno2O5Oqy2JEHgsDb9Dg\", -1003016231971)\n",
    "telegram_send_message (f\"{name2}: {price2}\", \"8490037832:AAHmmxVAkA5DqQjJno2O5Oqy2JEHgsDb9Dg\", -1003016231971)\n",
    "telegram_send_message (f\"MBC: {price}\", \"8490037832:AAHmmxVAkA5DqQjJno2O5Oqy2JEHgsDb9Dg\", -1003016231971)\n"
   ]
  },
  {
   "cell_type": "code",
   "execution_count": 13,
   "id": "b6726a14",
   "metadata": {},
   "outputs": [
    {
     "name": "stdout",
     "output_type": "stream",
     "text": [
      "{'ok': True, 'result': [{'update_id': 129161962, 'message': {'message_id': 2, 'from': {'id': 1932486894, 'is_bot': False, 'first_name': '호형', 'last_name': '정', 'language_code': 'ko'}, 'chat': {'id': 1932486894, 'first_name': '호형', 'last_name': '정', 'type': 'private'}, 'date': 1756266207, 'text': 'ㄱㄱㄱ'}}, {'update_id': 129161963, 'message': {'message_id': 41, 'from': {'id': 1932486894, 'is_bot': False, 'first_name': '호형', 'last_name': '정', 'language_code': 'ko'}, 'chat': {'id': 1932486894, 'first_name': '호형', 'last_name': '정', 'type': 'private'}, 'date': 1756273722, 'contact': {'phone_number': '821056079639', 'first_name': '호형', 'last_name': '정', 'user_id': 1932486894}}}, {'update_id': 129161964, 'my_chat_member': {'chat': {'id': -1003016231971, 'title': '코인그룹', 'type': 'supergroup'}, 'from': {'id': 1932486894, 'is_bot': False, 'first_name': '호형', 'last_name': '정', 'language_code': 'ko'}, 'date': 1756274019, 'old_chat_member': {'user': {'id': 8490037832, 'is_bot': True, 'first_name': 'Coin_vn1_bot', 'username': 'Coin_vn1_bot'}, 'status': 'left'}, 'new_chat_member': {'user': {'id': 8490037832, 'is_bot': True, 'first_name': 'Coin_vn1_bot', 'username': 'Coin_vn1_bot'}, 'status': 'member'}}}, {'update_id': 129161965, 'message': {'message_id': 2, 'from': {'id': 1932486894, 'is_bot': False, 'first_name': '호형', 'last_name': '정', 'language_code': 'ko'}, 'chat': {'id': -1003016231971, 'title': '코인그룹', 'type': 'supergroup'}, 'date': 1756274019, 'new_chat_participant': {'id': 8490037832, 'is_bot': True, 'first_name': 'Coin_vn1_bot', 'username': 'Coin_vn1_bot'}, 'new_chat_member': {'id': 8490037832, 'is_bot': True, 'first_name': 'Coin_vn1_bot', 'username': 'Coin_vn1_bot'}, 'new_chat_members': [{'id': 8490037832, 'is_bot': True, 'first_name': 'Coin_vn1_bot', 'username': 'Coin_vn1_bot'}]}}, {'update_id': 129161966, 'my_chat_member': {'chat': {'id': 1932486894, 'first_name': '호형', 'last_name': '정', 'type': 'private'}, 'from': {'id': 1932486894, 'is_bot': False, 'first_name': '호형', 'last_name': '정', 'language_code': 'ko'}, 'date': 1756274268, 'old_chat_member': {'user': {'id': 8490037832, 'is_bot': True, 'first_name': 'Coin_vn1_bot', 'username': 'Coin_vn1_bot'}, 'status': 'member'}, 'new_chat_member': {'user': {'id': 8490037832, 'is_bot': True, 'first_name': 'Coin_vn1_bot', 'username': 'Coin_vn1_bot'}, 'status': 'kicked', 'until_date': 0}}}, {'update_id': 129161967, 'message': {'message_id': 4, 'from': {'id': 1932486894, 'is_bot': False, 'first_name': '호형', 'last_name': '정', 'language_code': 'ko'}, 'chat': {'id': -1003016231971, 'title': '코인그룹', 'type': 'supergroup'}, 'date': 1756274295, 'text': '/start', 'entities': [{'offset': 0, 'length': 6, 'type': 'bot_command'}]}}, {'update_id': 129161968, 'my_chat_member': {'chat': {'id': 1932486894, 'first_name': '호형', 'last_name': '정', 'type': 'private'}, 'from': {'id': 1932486894, 'is_bot': False, 'first_name': '호형', 'last_name': '정', 'language_code': 'ko'}, 'date': 1756274677, 'old_chat_member': {'user': {'id': 8490037832, 'is_bot': True, 'first_name': 'Coin_vn1_bot', 'username': 'Coin_vn1_bot'}, 'status': 'kicked', 'until_date': 0}, 'new_chat_member': {'user': {'id': 8490037832, 'is_bot': True, 'first_name': 'Coin_vn1_bot', 'username': 'Coin_vn1_bot'}, 'status': 'member'}}}, {'update_id': 129161969, 'message': {'message_id': 42, 'from': {'id': 1932486894, 'is_bot': False, 'first_name': '호형', 'last_name': '정', 'language_code': 'ko'}, 'chat': {'id': 1932486894, 'first_name': '호형', 'last_name': '정', 'type': 'private'}, 'date': 1756274677, 'text': '/start', 'entities': [{'offset': 0, 'length': 6, 'type': 'bot_command'}]}}, {'update_id': 129161970, 'message': {'message_id': 43, 'from': {'id': 1932486894, 'is_bot': False, 'first_name': '호형', 'last_name': '정', 'language_code': 'ko'}, 'chat': {'id': 1932486894, 'first_name': '호형', 'last_name': '정', 'type': 'private'}, 'date': 1756274688, 'text': 'Tyggh'}}, {'update_id': 129161971, 'message': {'message_id': 8, 'from': {'id': 1932486894, 'is_bot': False, 'first_name': '호형', 'last_name': '정', 'language_code': 'ko'}, 'chat': {'id': -1003016231971, 'title': '코인그룹', 'type': 'supergroup'}, 'date': 1756275284, 'text': '/start', 'entities': [{'offset': 0, 'length': 6, 'type': 'bot_command'}]}}]}\n",
      "Chat ID: 1932486894\n"
     ]
    }
   ],
   "source": [
    "import requests\n",
    "\n",
    "TOKEN = \"8490037832:AAHmmxVAkA5DqQjJno2O5Oqy2JEHgsDb9Dg\"\n",
    "url = f\"https://api.telegram.org/bot{TOKEN}/getUpdates\"\n",
    "\n",
    "response = requests.get(url)\n",
    "data = response.json()\n",
    "print(data)\n",
    "# Print the chat ID from the first message\n",
    "chat_id = data[\"result\"][0][\"message\"][\"chat\"][\"id\"]\n",
    "print(\"Chat ID:\", chat_id)"
   ]
  }
 ],
 "metadata": {
  "kernelspec": {
   "display_name": "Python 3",
   "language": "python",
   "name": "python3"
  },
  "language_info": {
   "codemirror_mode": {
    "name": "ipython",
    "version": 3
   },
   "file_extension": ".py",
   "mimetype": "text/x-python",
   "name": "python",
   "nbconvert_exporter": "python",
   "pygments_lexer": "ipython3",
   "version": "3.12.3"
  }
 },
 "nbformat": 4,
 "nbformat_minor": 5
}
